{
 "cells": [
  {
   "cell_type": "code",
   "execution_count": 1,
   "id": "7369caa4-c394-4f14-bdfc-5e0f84358b90",
   "metadata": {},
   "outputs": [],
   "source": [
    "%load_ext autoreload\n",
    "%autoreload 2"
   ]
  },
  {
   "cell_type": "code",
   "execution_count": 2,
   "id": "08a892fd-5195-41f5-b11c-93a5d9a6dab9",
   "metadata": {},
   "outputs": [],
   "source": [
    "import sys\n",
    "import os\n",
    "sys.path.append(os.path.expanduser('~/clinical_transformer/'))\n",
    "sys.path.append(os.path.expanduser('~/samecode/'))\n",
    "sys.path.append(os.path.expanduser('~/python/usr/local/lib/python3.6/dist-packages/'))\n",
    "sys.path.append(os.path.expanduser('~/pbmf/'))"
   ]
  },
  {
   "cell_type": "code",
   "execution_count": 3,
   "id": "a279e4c5-eaa1-4fe7-8401-e97f15cd0784",
   "metadata": {},
   "outputs": [],
   "source": [
    "import pandas as pd\n",
    "import numpy as np\n",
    "import seaborn as sns\n",
    "from tqdm.auto import tqdm\n",
    "pd.set_option('display.max_rows', 200)\n",
    "pd.set_option('display.max_columns', 500)\n",
    "%config InlineBackend.figure_format = 'png'\n",
    "from collections import Counter\n",
    "\n",
    "import matplotlib \n",
    "matplotlib.rcParams['figure.dpi'] = 300\n",
    "\n",
    "import matplotlib.pyplot as plt\n",
    "from collections import Counter\n"
   ]
  },
  {
   "cell_type": "code",
   "execution_count": 4,
   "id": "6d19691d-3698-4054-82a1-37a457410d3b",
   "metadata": {},
   "outputs": [],
   "source": [
    "from samecode.plot.pyplot import subplots\n",
    "from samecode.survival.plot import KMPlot\n",
    "from samecode.random import set_seed"
   ]
  },
  {
   "cell_type": "markdown",
   "id": "2e71014b-b83e-4797-811f-cee47b4a5d3a",
   "metadata": {},
   "source": [
    "# Retrieve data"
   ]
  },
  {
   "cell_type": "code",
   "execution_count": 5,
   "id": "c2e56ef0-a5bf-4d2b-87b5-60f107f2556b",
   "metadata": {},
   "outputs": [],
   "source": [
    "datasets = {}\n",
    "\n",
    "for split in ['train', 'test']:    \n",
    "    # 1 OAK\n",
    "    train = pd.read_csv('../../OAK_POPLAR/data/data_{}_benchmark.csv'.format(split))\n",
    "    train['ARM'] = train.Treatment.replace(['SOC', 'IO'], ['Docetaxel', 'Atezolizumab'])\n",
    "    train['pruning_risk'] = train['pruning_consensus_risk']\n",
    "    train['time'] = train['OS']\n",
    "    train['event'] = train['OS_EVENT']\n",
    "    datasets[('oak', split)] = train\n",
    "    \n",
    "    #2 JAVELIN\n",
    "    train = pd.read_csv('../../JAVELIN_renal_101_trial/data/data_{}.csv'.format(split))\n",
    "    train['pruning_risk'] = train['pruning_consensus_risk']\n",
    "    train['time'] = train['PFS_P']\n",
    "    train['event'] = train['PFS_EVENT']\n",
    "    datasets[('javelin', split)] = train\n",
    "    \n",
    "    #3 CHECKMATE\n",
    "    train = pd.read_csv('../../Braun2020_Checkmate/data/data_{}-benchmark.csv'.format(split))\n",
    "    train['ARM'] = train.Arm.replace(['EVEROLIMUS', 'NIVOLUMAB'], ['Everolimus', 'Nivolumab'])\n",
    "    train['pruning_risk'] = train['pruning_consensus_risk']\n",
    "    train['time'] = train['OS']\n",
    "    train['event'] = train['OS_CNSR']\n",
    "    datasets[('checkmate', split)] = train\n",
    "        \n",
    "    #5 IMVIGOR211 210-211\n",
    "    train = pd.read_csv('../../IMVIGOR211/data/data_{}-ph2-ph3.csv'.format(split))\n",
    "    train['OS_TIME'] = train['OS_TIME'] / 30.44\n",
    "    train['pruning_risk'] = train['pruning_consensus_risk_min']\n",
    "    train['time'] = train['OS_TIME']\n",
    "    train['event'] = train['OS_EVENT']\n",
    "    datasets[('imvigor', split)] = train\n",
    "        \n",
    "    #6 IMMotion 150\n",
    "    train = pd.read_csv('../../IMMotion150/data/data_{}.csv'.format(split))\n",
    "    train['OS_TIME'] = train['OS_TIME'] / 30.44\n",
    "    train['pruning_risk'] = train['pruning_consensus_risk_min']\n",
    "    train['time'] = train['OS_TIME']\n",
    "    train['event'] = train['OS_EVENT']\n",
    "    datasets[('immotion', split)] = train\n",
    "    \n",
    "\n",
    "    #8 BRCA\n",
    "    # prunning did not improve model performance in training set.\n",
    "    train = pd.read_csv('../../BRCA/data/data_{}_benchmark.csv'.format(split))\n",
    "    train['ARM'] = train.Treatment.replace(['CT', 'HT'], ['Chemo', 'Hormone'])\n",
    "    train['pruning_bin_risk'] = train['bin_risk_selected_0.95']\n",
    "    train['pruning_risk'] = train['consensus_risk_selected_0.95']\n",
    "    train['time'] = train['time']\n",
    "    train['event'] = train['death']\n",
    "    datasets[('brca', split)] = train\n",
    "    \n",
    "    \n",
    "    #9 RETINOPATHY\n",
    "    train = pd.read_csv('../../Retinopathy/data/retinopathy_bin_{}_results.csv'.format(split))\n",
    "    train['pruning_risk'] = train['pruning_consensus_risk']\n",
    "    train['time'] = train['time']\n",
    "    train['event'] = train['event']\n",
    "    datasets[('retinopathy', split)] = train\n",
    "    "
   ]
  },
  {
   "cell_type": "code",
   "execution_count": 6,
   "id": "3a59fe7d-0cfb-443b-a2e8-1b57a1922bbd",
   "metadata": {},
   "outputs": [],
   "source": [
    "import pickle\n",
    "pickle.dump(datasets, open('../data/dataset.pk', 'wb'))"
   ]
  },
  {
   "cell_type": "code",
   "execution_count": null,
   "id": "05900d53-ea6f-4294-b3ec-f3edc1702cec",
   "metadata": {},
   "outputs": [],
   "source": []
  },
  {
   "cell_type": "code",
   "execution_count": null,
   "id": "187082a7-ac66-49ca-98cf-f3242773c264",
   "metadata": {},
   "outputs": [],
   "source": []
  }
 ],
 "metadata": {
  "kernelspec": {
   "display_name": "Python 3 (ipykernel)",
   "language": "python",
   "name": "python3"
  },
  "language_info": {
   "codemirror_mode": {
    "name": "ipython",
    "version": 3
   },
   "file_extension": ".py",
   "mimetype": "text/x-python",
   "name": "python",
   "nbconvert_exporter": "python",
   "pygments_lexer": "ipython3",
   "version": "3.11.0rc1"
  }
 },
 "nbformat": 4,
 "nbformat_minor": 5
}
