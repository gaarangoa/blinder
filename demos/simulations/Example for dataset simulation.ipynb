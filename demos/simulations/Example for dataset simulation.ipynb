{
 "cells": [
  {
   "cell_type": "code",
   "execution_count": 12,
   "id": "c59d7a6f",
   "metadata": {
    "ExecuteTime": {
     "end_time": "2023-12-12T21:10:31.076296Z",
     "start_time": "2023-12-12T21:10:23.563400Z"
    }
   },
   "outputs": [
    {
     "name": "stdout",
     "output_type": "stream",
     "text": [
      "The autoreload extension is already loaded. To reload it, use:\n",
      "  %reload_ext autoreload\n"
     ]
    }
   ],
   "source": [
    "import pandas as pd\n",
    "import numpy as np\n",
    "import matplotlib.pyplot as plt\n",
    "import seaborn as sns\n",
    "import sys \n",
    "import os\n",
    "import tqdm\n",
    "\n",
    "\n",
    "sys.path.append(os.path.abspath('../../whatif_simulator/'))\n",
    "sys.path.append(os.path.abspath('../../'))\n",
    "\n",
    "import warnings\n",
    "warnings.filterwarnings('ignore')\n",
    "\n",
    "%load_ext autoreload\n",
    "%autoreload 2"
   ]
  },
  {
   "cell_type": "markdown",
   "id": "808dc3ab-7e3c-4921-ae11-d4cdf006dba5",
   "metadata": {},
   "source": [
    "# Load functions used in the simulation"
   ]
  },
  {
   "cell_type": "code",
   "execution_count": 13,
   "id": "72fcb152",
   "metadata": {
    "ExecuteTime": {
     "end_time": "2023-12-12T21:10:31.647771Z",
     "start_time": "2023-12-12T21:10:31.131305Z"
    }
   },
   "outputs": [],
   "source": [
    "from whatif_simulator.simulate import covariate_creator, simulate_and_censor, covariate_extend, binary_to_continous2\n",
    "from lifelines import KaplanMeierFitter, CoxPHFitter"
   ]
  },
  {
   "cell_type": "markdown",
   "id": "a909ac46-13dd-4b9a-86d8-2b8022d79d9a",
   "metadata": {},
   "source": [
    "# Some auxiliary functions for creating the parameters for the simulations"
   ]
  },
  {
   "cell_type": "markdown",
   "id": "ed755b45-1430-4492-8e93-c26bbf085d03",
   "metadata": {},
   "source": [
    "These functions just create the list of variable names, means of the distributions to sample, prevalences and betas for the HR simulation"
   ]
  },
  {
   "cell_type": "code",
   "execution_count": 15,
   "id": "a82d2aa6-3258-463f-85d3-902221026757",
   "metadata": {},
   "outputs": [],
   "source": [
    "def create_means(n = 5):\n",
    "    return n*[0.0]\n",
    "\n",
    "def create_ps(n = 5):\n",
    "    return n*[0.5]\n",
    "\n",
    "def create_betas(n = 5):\n",
    "    trt = [np.log(0.83)]\n",
    "    var_vals = [np.log(1.0)] + (n-1)*[0.0]\n",
    "    trtxvar_vals = [np.log(0.6)] + (n-1)*[0.0]\n",
    "    varxvar_vals = int((n-1)*n/2)*[0.0]\n",
    "    trtxvarxvar_vals = int((n-1)*n/2)*[0.0]\n",
    "\n",
    "    return trt + var_vals + trtxvar_vals + varxvar_vals + trtxvarxvar_vals\n",
    "\n",
    "def create_varnames(n = 5):\n",
    "    varnames = ['trt']\n",
    "    for i in range(n):\n",
    "        varnames.append('var{}'.format(i+1))\n",
    "    return varnames"
   ]
  },
  {
   "cell_type": "markdown",
   "id": "294f402b-4c26-4764-809d-cd5eac71feb4",
   "metadata": {},
   "source": [
    "# Creating a dataset with 2 vars"
   ]
  },
  {
   "cell_type": "markdown",
   "id": "a9614789-81da-465b-acbe-ce0efa0ca10d",
   "metadata": {},
   "source": [
    "First one is predictive and the second is completely random. On the cell above, we defined the betas. The first variable will have and iherent prognostic effect on top of the predictive one, meaning that the treatment by itself is useful (it is governed by the trt beta). Neither var1 or var2 have any effect (hence both betas are 0). The predictive effect is encoded in trtxvar_vals: only var1 is predictive"
   ]
  },
  {
   "cell_type": "code",
   "execution_count": 27,
   "id": "2f53dc3f",
   "metadata": {
    "ExecuteTime": {
     "end_time": "2023-12-12T21:21:11.743682Z",
     "start_time": "2023-12-12T21:21:11.708979Z"
    }
   },
   "outputs": [],
   "source": [
    "i = 0\n",
    "N = 2\n",
    "dfs = []\n",
    "X = covariate_creator(means = create_means(N), binarize=True, seed=i, size=10000, p = create_ps(N))\n",
    "X = covariate_extend(X)\n",
    "seed=i+1\n",
    "gam=1.5\n",
    "lamb=0.07\n",
    "\n",
    "censoring_ratio = 0.05\n",
    "normalize_to_time = -64\n",
    "recruiting_timeframe = 18\n",
    "administrative_date = -48\n",
    "\n",
    "betas = create_betas(N) #trt log(0.83) trtxvar1 log(0.6)\n",
    "\n",
    "df = simulate_and_censor(X, betas, gam, lamb, censoring_ratio, normalize_to_time,\n",
    "                       recruiting_timeframe, administrative_date, seed)\n",
    "    \n",
    "df = df[create_varnames(N) + ['observed_t','event']].copy()\n",
    "df = binary_to_continous2(df, create_varnames(N)[1:])\n",
    "df['i'] = i\n",
    "dfs.append(df)\n",
    "dfs = pd.concat(dfs)"
   ]
  },
  {
   "cell_type": "code",
   "execution_count": 28,
   "id": "304439ed-01cc-4c4c-a881-fa39d696e7f2",
   "metadata": {},
   "outputs": [
    {
     "data": {
      "text/html": [
       "<div>\n",
       "<style scoped>\n",
       "    .dataframe tbody tr th:only-of-type {\n",
       "        vertical-align: middle;\n",
       "    }\n",
       "\n",
       "    .dataframe tbody tr th {\n",
       "        vertical-align: top;\n",
       "    }\n",
       "\n",
       "    .dataframe thead th {\n",
       "        text-align: right;\n",
       "    }\n",
       "</style>\n",
       "<table border=\"1\" class=\"dataframe\">\n",
       "  <thead>\n",
       "    <tr style=\"text-align: right;\">\n",
       "      <th></th>\n",
       "      <th>trt</th>\n",
       "      <th>var1</th>\n",
       "      <th>var2</th>\n",
       "      <th>observed_t</th>\n",
       "      <th>event</th>\n",
       "      <th>i</th>\n",
       "    </tr>\n",
       "  </thead>\n",
       "  <tbody>\n",
       "    <tr>\n",
       "      <th>0</th>\n",
       "      <td>1</td>\n",
       "      <td>-0.404916</td>\n",
       "      <td>0.113899</td>\n",
       "      <td>6.096692</td>\n",
       "      <td>1</td>\n",
       "      <td>0</td>\n",
       "    </tr>\n",
       "    <tr>\n",
       "      <th>1</th>\n",
       "      <td>1</td>\n",
       "      <td>-0.272148</td>\n",
       "      <td>-0.179347</td>\n",
       "      <td>3.170874</td>\n",
       "      <td>1</td>\n",
       "      <td>0</td>\n",
       "    </tr>\n",
       "    <tr>\n",
       "      <th>2</th>\n",
       "      <td>1</td>\n",
       "      <td>-0.441641</td>\n",
       "      <td>-0.471665</td>\n",
       "      <td>29.005466</td>\n",
       "      <td>1</td>\n",
       "      <td>0</td>\n",
       "    </tr>\n",
       "    <tr>\n",
       "      <th>3</th>\n",
       "      <td>1</td>\n",
       "      <td>0.488686</td>\n",
       "      <td>-0.416918</td>\n",
       "      <td>10.559847</td>\n",
       "      <td>1</td>\n",
       "      <td>0</td>\n",
       "    </tr>\n",
       "    <tr>\n",
       "      <th>4</th>\n",
       "      <td>0</td>\n",
       "      <td>-0.476136</td>\n",
       "      <td>0.209636</td>\n",
       "      <td>9.091781</td>\n",
       "      <td>1</td>\n",
       "      <td>0</td>\n",
       "    </tr>\n",
       "    <tr>\n",
       "      <th>...</th>\n",
       "      <td>...</td>\n",
       "      <td>...</td>\n",
       "      <td>...</td>\n",
       "      <td>...</td>\n",
       "      <td>...</td>\n",
       "      <td>...</td>\n",
       "    </tr>\n",
       "    <tr>\n",
       "      <th>9995</th>\n",
       "      <td>1</td>\n",
       "      <td>-0.074728</td>\n",
       "      <td>-0.253191</td>\n",
       "      <td>3.400505</td>\n",
       "      <td>1</td>\n",
       "      <td>0</td>\n",
       "    </tr>\n",
       "    <tr>\n",
       "      <th>9996</th>\n",
       "      <td>0</td>\n",
       "      <td>-0.357174</td>\n",
       "      <td>-0.176855</td>\n",
       "      <td>6.709705</td>\n",
       "      <td>1</td>\n",
       "      <td>0</td>\n",
       "    </tr>\n",
       "    <tr>\n",
       "      <th>9997</th>\n",
       "      <td>1</td>\n",
       "      <td>0.482687</td>\n",
       "      <td>0.330172</td>\n",
       "      <td>5.655167</td>\n",
       "      <td>0</td>\n",
       "      <td>0</td>\n",
       "    </tr>\n",
       "    <tr>\n",
       "      <th>9998</th>\n",
       "      <td>0</td>\n",
       "      <td>-0.107003</td>\n",
       "      <td>0.298256</td>\n",
       "      <td>10.034982</td>\n",
       "      <td>1</td>\n",
       "      <td>0</td>\n",
       "    </tr>\n",
       "    <tr>\n",
       "      <th>9999</th>\n",
       "      <td>1</td>\n",
       "      <td>0.263706</td>\n",
       "      <td>0.118053</td>\n",
       "      <td>3.922047</td>\n",
       "      <td>1</td>\n",
       "      <td>0</td>\n",
       "    </tr>\n",
       "  </tbody>\n",
       "</table>\n",
       "<p>10000 rows × 6 columns</p>\n",
       "</div>"
      ],
      "text/plain": [
       "      trt      var1      var2  observed_t  event  i\n",
       "0       1 -0.404916  0.113899    6.096692      1  0\n",
       "1       1 -0.272148 -0.179347    3.170874      1  0\n",
       "2       1 -0.441641 -0.471665   29.005466      1  0\n",
       "3       1  0.488686 -0.416918   10.559847      1  0\n",
       "4       0 -0.476136  0.209636    9.091781      1  0\n",
       "...   ...       ...       ...         ...    ... ..\n",
       "9995    1 -0.074728 -0.253191    3.400505      1  0\n",
       "9996    0 -0.357174 -0.176855    6.709705      1  0\n",
       "9997    1  0.482687  0.330172    5.655167      0  0\n",
       "9998    0 -0.107003  0.298256   10.034982      1  0\n",
       "9999    1  0.263706  0.118053    3.922047      1  0\n",
       "\n",
       "[10000 rows x 6 columns]"
      ]
     },
     "execution_count": 28,
     "metadata": {},
     "output_type": "execute_result"
    }
   ],
   "source": [
    "dfs"
   ]
  },
  {
   "cell_type": "markdown",
   "id": "e1afbdff",
   "metadata": {},
   "source": [
    "# Check CoxPH"
   ]
  },
  {
   "cell_type": "code",
   "execution_count": 29,
   "id": "8de13b5c",
   "metadata": {
    "ExecuteTime": {
     "end_time": "2023-12-12T21:21:27.678881Z",
     "start_time": "2023-12-12T21:21:25.370691Z"
    }
   },
   "outputs": [
    {
     "data": {
      "text/html": [
       "<div>\n",
       "<style scoped>\n",
       "    .dataframe tbody tr th:only-of-type {\n",
       "        vertical-align: middle;\n",
       "    }\n",
       "\n",
       "    .dataframe tbody tr th {\n",
       "        vertical-align: top;\n",
       "    }\n",
       "\n",
       "    .dataframe thead th {\n",
       "        text-align: right;\n",
       "    }\n",
       "</style>\n",
       "<table border=\"1\" class=\"dataframe\">\n",
       "  <tbody>\n",
       "    <tr>\n",
       "      <th>model</th>\n",
       "      <td>lifelines.CoxPHFitter</td>\n",
       "    </tr>\n",
       "    <tr>\n",
       "      <th>duration col</th>\n",
       "      <td>'observed_t'</td>\n",
       "    </tr>\n",
       "    <tr>\n",
       "      <th>event col</th>\n",
       "      <td>'event'</td>\n",
       "    </tr>\n",
       "    <tr>\n",
       "      <th>baseline estimation</th>\n",
       "      <td>breslow</td>\n",
       "    </tr>\n",
       "    <tr>\n",
       "      <th>number of observations</th>\n",
       "      <td>10000</td>\n",
       "    </tr>\n",
       "    <tr>\n",
       "      <th>number of events observed</th>\n",
       "      <td>9475</td>\n",
       "    </tr>\n",
       "    <tr>\n",
       "      <th>partial log-likelihood</th>\n",
       "      <td>-77349.57</td>\n",
       "    </tr>\n",
       "    <tr>\n",
       "      <th>time fit was run</th>\n",
       "      <td>2025-01-29 19:56:07 UTC</td>\n",
       "    </tr>\n",
       "  </tbody>\n",
       "</table>\n",
       "</div><table border=\"1\" class=\"dataframe\">\n",
       "  <thead>\n",
       "    <tr style=\"text-align: right;\">\n",
       "      <th style=\"min-width: 12px;\"></th>\n",
       "      <th style=\"min-width: 12px;\">coef</th>\n",
       "      <th style=\"min-width: 12px;\">exp(coef)</th>\n",
       "      <th style=\"min-width: 12px;\">se(coef)</th>\n",
       "      <th style=\"min-width: 12px;\">coef lower 95%</th>\n",
       "      <th style=\"min-width: 12px;\">coef upper 95%</th>\n",
       "      <th style=\"min-width: 12px;\">exp(coef) lower 95%</th>\n",
       "      <th style=\"min-width: 12px;\">exp(coef) upper 95%</th>\n",
       "      <th style=\"min-width: 12px;\">cmp to</th>\n",
       "      <th style=\"min-width: 12px;\">z</th>\n",
       "      <th style=\"min-width: 12px;\">p</th>\n",
       "      <th style=\"min-width: 12px;\">-log2(p)</th>\n",
       "    </tr>\n",
       "  </thead>\n",
       "  <tbody>\n",
       "    <tr>\n",
       "      <th>trt</th>\n",
       "      <td>-0.44</td>\n",
       "      <td>0.64</td>\n",
       "      <td>0.02</td>\n",
       "      <td>-0.48</td>\n",
       "      <td>-0.40</td>\n",
       "      <td>0.62</td>\n",
       "      <td>0.67</td>\n",
       "      <td>0.00</td>\n",
       "      <td>-21.07</td>\n",
       "      <td>&lt;0.005</td>\n",
       "      <td>324.97</td>\n",
       "    </tr>\n",
       "    <tr>\n",
       "      <th>var1</th>\n",
       "      <td>0.03</td>\n",
       "      <td>1.03</td>\n",
       "      <td>0.05</td>\n",
       "      <td>-0.07</td>\n",
       "      <td>0.13</td>\n",
       "      <td>0.93</td>\n",
       "      <td>1.14</td>\n",
       "      <td>0.00</td>\n",
       "      <td>0.59</td>\n",
       "      <td>0.56</td>\n",
       "      <td>0.84</td>\n",
       "    </tr>\n",
       "    <tr>\n",
       "      <th>var2</th>\n",
       "      <td>-0.10</td>\n",
       "      <td>0.90</td>\n",
       "      <td>0.05</td>\n",
       "      <td>-0.20</td>\n",
       "      <td>-0.01</td>\n",
       "      <td>0.82</td>\n",
       "      <td>0.99</td>\n",
       "      <td>0.00</td>\n",
       "      <td>-2.07</td>\n",
       "      <td>0.04</td>\n",
       "      <td>4.72</td>\n",
       "    </tr>\n",
       "    <tr>\n",
       "      <th>var1:trt</th>\n",
       "      <td>-0.73</td>\n",
       "      <td>0.48</td>\n",
       "      <td>0.07</td>\n",
       "      <td>-0.87</td>\n",
       "      <td>-0.59</td>\n",
       "      <td>0.42</td>\n",
       "      <td>0.55</td>\n",
       "      <td>0.00</td>\n",
       "      <td>-10.15</td>\n",
       "      <td>&lt;0.005</td>\n",
       "      <td>78.05</td>\n",
       "    </tr>\n",
       "    <tr>\n",
       "      <th>var2:trt</th>\n",
       "      <td>0.02</td>\n",
       "      <td>1.02</td>\n",
       "      <td>0.07</td>\n",
       "      <td>-0.12</td>\n",
       "      <td>0.16</td>\n",
       "      <td>0.88</td>\n",
       "      <td>1.17</td>\n",
       "      <td>0.00</td>\n",
       "      <td>0.23</td>\n",
       "      <td>0.82</td>\n",
       "      <td>0.29</td>\n",
       "    </tr>\n",
       "    <tr>\n",
       "      <th>var1:var2</th>\n",
       "      <td>0.12</td>\n",
       "      <td>1.13</td>\n",
       "      <td>0.12</td>\n",
       "      <td>-0.12</td>\n",
       "      <td>0.37</td>\n",
       "      <td>0.89</td>\n",
       "      <td>1.44</td>\n",
       "      <td>0.00</td>\n",
       "      <td>1.01</td>\n",
       "      <td>0.31</td>\n",
       "      <td>1.68</td>\n",
       "    </tr>\n",
       "  </tbody>\n",
       "</table><br><div>\n",
       "<style scoped>\n",
       "    .dataframe tbody tr th:only-of-type {\n",
       "        vertical-align: middle;\n",
       "    }\n",
       "\n",
       "    .dataframe tbody tr th {\n",
       "        vertical-align: top;\n",
       "    }\n",
       "\n",
       "    .dataframe thead th {\n",
       "        text-align: right;\n",
       "    }\n",
       "</style>\n",
       "<table border=\"1\" class=\"dataframe\">\n",
       "  <tbody>\n",
       "    <tr>\n",
       "      <th>Concordance</th>\n",
       "      <td>0.57</td>\n",
       "    </tr>\n",
       "    <tr>\n",
       "      <th>Partial AIC</th>\n",
       "      <td>154711.14</td>\n",
       "    </tr>\n",
       "    <tr>\n",
       "      <th>log-likelihood ratio test</th>\n",
       "      <td>635.70 on 6 df</td>\n",
       "    </tr>\n",
       "    <tr>\n",
       "      <th>-log2(p) of ll-ratio test</th>\n",
       "      <td>442.93</td>\n",
       "    </tr>\n",
       "  </tbody>\n",
       "</table>\n",
       "</div>"
      ],
      "text/latex": [
       "\\begin{tabular}{lrrrrrrrrrrr}\n",
       " & coef & exp(coef) & se(coef) & coef lower 95% & coef upper 95% & exp(coef) lower 95% & exp(coef) upper 95% & cmp to & z & p & -log2(p) \\\\\n",
       "covariate &  &  &  &  &  &  &  &  &  &  &  \\\\\n",
       "trt & -0.44 & 0.64 & 0.02 & -0.48 & -0.40 & 0.62 & 0.67 & 0.00 & -21.07 & 0.00 & 324.97 \\\\\n",
       "var1 & 0.03 & 1.03 & 0.05 & -0.07 & 0.13 & 0.93 & 1.14 & 0.00 & 0.59 & 0.56 & 0.84 \\\\\n",
       "var2 & -0.10 & 0.90 & 0.05 & -0.20 & -0.01 & 0.82 & 0.99 & 0.00 & -2.07 & 0.04 & 4.72 \\\\\n",
       "var1:trt & -0.73 & 0.48 & 0.07 & -0.87 & -0.59 & 0.42 & 0.55 & 0.00 & -10.15 & 0.00 & 78.05 \\\\\n",
       "var2:trt & 0.02 & 1.02 & 0.07 & -0.12 & 0.16 & 0.88 & 1.17 & 0.00 & 0.23 & 0.82 & 0.29 \\\\\n",
       "var1:var2 & 0.12 & 1.13 & 0.12 & -0.12 & 0.37 & 0.89 & 1.44 & 0.00 & 1.01 & 0.31 & 1.68 \\\\\n",
       "\\end{tabular}\n"
      ],
      "text/plain": [
       "<lifelines.CoxPHFitter: fitted with 10000 total observations, 525 right-censored observations>\n",
       "             duration col = 'observed_t'\n",
       "                event col = 'event'\n",
       "      baseline estimation = breslow\n",
       "   number of observations = 10000\n",
       "number of events observed = 9475\n",
       "   partial log-likelihood = -77349.57\n",
       "         time fit was run = 2025-01-29 19:56:07 UTC\n",
       "\n",
       "---\n",
       "           coef exp(coef)  se(coef)  coef lower 95%  coef upper 95% exp(coef) lower 95% exp(coef) upper 95%\n",
       "covariate                                                                                                  \n",
       "trt       -0.44      0.64      0.02           -0.48           -0.40                0.62                0.67\n",
       "var1       0.03      1.03      0.05           -0.07            0.13                0.93                1.14\n",
       "var2      -0.10      0.90      0.05           -0.20           -0.01                0.82                0.99\n",
       "var1:trt  -0.73      0.48      0.07           -0.87           -0.59                0.42                0.55\n",
       "var2:trt   0.02      1.02      0.07           -0.12            0.16                0.88                1.17\n",
       "var1:var2  0.12      1.13      0.12           -0.12            0.37                0.89                1.44\n",
       "\n",
       "           cmp to      z      p  -log2(p)\n",
       "covariate                                \n",
       "trt          0.00 -21.07 <0.005    324.97\n",
       "var1         0.00   0.59   0.56      0.84\n",
       "var2         0.00  -2.07   0.04      4.72\n",
       "var1:trt     0.00 -10.15 <0.005     78.05\n",
       "var2:trt     0.00   0.23   0.82      0.29\n",
       "var1:var2    0.00   1.01   0.31      1.68\n",
       "---\n",
       "Concordance = 0.57\n",
       "Partial AIC = 154711.14\n",
       "log-likelihood ratio test = 635.70 on 6 df\n",
       "-log2(p) of ll-ratio test = 442.93"
      ]
     },
     "metadata": {},
     "output_type": "display_data"
    }
   ],
   "source": [
    "cph = CoxPHFitter()\n",
    "cph.fit(df, duration_col='observed_t', event_col='event', \n",
    "        formula='trt + var1 + var2 + var1 * trt + var2 * trt + var1*var2')\n",
    "cph.print_summary()"
   ]
  },
  {
   "cell_type": "markdown",
   "id": "589d5235-5abc-4347-8fb8-6234e99e1143",
   "metadata": {},
   "source": [
    "The CoxPH model shows that only trt and trtxvar1 coeffcients are different from 0."
   ]
  },
  {
   "cell_type": "markdown",
   "id": "adcae9df-f18f-4a21-a082-44873a0a344a",
   "metadata": {},
   "source": [
    "# Create another 1000 random vars"
   ]
  },
  {
   "cell_type": "markdown",
   "id": "c8abf7db-3fbd-4dbb-a0b0-a01aa7b7e6a5",
   "metadata": {},
   "source": [
    "We can create 1000 random variables by sampling from the multivariate normal. To avoid extra computations, we just cut the first 2 variables and we add them to the previous dataset to have a full dataset with 1 predictive and 999 random variables."
   ]
  },
  {
   "cell_type": "code",
   "execution_count": 8,
   "id": "b6ff205a-be3b-4e5a-8df9-da9c3e783f66",
   "metadata": {},
   "outputs": [],
   "source": [
    "N = 1000\n",
    "X2 = covariate_creator(means = create_means(N), binarize=True, seed=i, size=10000, p = create_ps(N))\n",
    "df2 = binary_to_continous2(X2, create_varnames(N)[1:])"
   ]
  },
  {
   "cell_type": "code",
   "execution_count": 19,
   "id": "9691982d-d141-49b2-9f9c-a4fe1e3ba086",
   "metadata": {},
   "outputs": [],
   "source": [
    "df_final = pd.concat([dfs[['trt','observed_t','event','var1','var2']], df2.iloc[:,3:]], axis = 1)"
   ]
  },
  {
   "cell_type": "markdown",
   "id": "49e5b8a6-d430-4ef5-b815-d8e0f9b036e8",
   "metadata": {},
   "source": [
    "It is possible to show that the varibles are uncorrelated (showing only first 5):"
   ]
  },
  {
   "cell_type": "code",
   "execution_count": 36,
   "id": "a1359fda-c5a3-42f3-8932-4c8f579b4cde",
   "metadata": {},
   "outputs": [
    {
     "data": {
      "text/html": [
       "<div>\n",
       "<style scoped>\n",
       "    .dataframe tbody tr th:only-of-type {\n",
       "        vertical-align: middle;\n",
       "    }\n",
       "\n",
       "    .dataframe tbody tr th {\n",
       "        vertical-align: top;\n",
       "    }\n",
       "\n",
       "    .dataframe thead th {\n",
       "        text-align: right;\n",
       "    }\n",
       "</style>\n",
       "<table border=\"1\" class=\"dataframe\">\n",
       "  <thead>\n",
       "    <tr style=\"text-align: right;\">\n",
       "      <th></th>\n",
       "      <th>var1</th>\n",
       "      <th>var2</th>\n",
       "      <th>var3</th>\n",
       "      <th>var4</th>\n",
       "      <th>var5</th>\n",
       "    </tr>\n",
       "  </thead>\n",
       "  <tbody>\n",
       "    <tr>\n",
       "      <th>var1</th>\n",
       "      <td>1.000000</td>\n",
       "      <td>0.017258</td>\n",
       "      <td>0.010839</td>\n",
       "      <td>-0.019406</td>\n",
       "      <td>-0.010829</td>\n",
       "    </tr>\n",
       "    <tr>\n",
       "      <th>var2</th>\n",
       "      <td>0.017258</td>\n",
       "      <td>1.000000</td>\n",
       "      <td>0.017182</td>\n",
       "      <td>-0.013300</td>\n",
       "      <td>-0.001718</td>\n",
       "    </tr>\n",
       "    <tr>\n",
       "      <th>var3</th>\n",
       "      <td>0.010839</td>\n",
       "      <td>0.017182</td>\n",
       "      <td>1.000000</td>\n",
       "      <td>0.000125</td>\n",
       "      <td>0.002137</td>\n",
       "    </tr>\n",
       "    <tr>\n",
       "      <th>var4</th>\n",
       "      <td>-0.019406</td>\n",
       "      <td>-0.013300</td>\n",
       "      <td>0.000125</td>\n",
       "      <td>1.000000</td>\n",
       "      <td>0.003279</td>\n",
       "    </tr>\n",
       "    <tr>\n",
       "      <th>var5</th>\n",
       "      <td>-0.010829</td>\n",
       "      <td>-0.001718</td>\n",
       "      <td>0.002137</td>\n",
       "      <td>0.003279</td>\n",
       "      <td>1.000000</td>\n",
       "    </tr>\n",
       "  </tbody>\n",
       "</table>\n",
       "</div>"
      ],
      "text/plain": [
       "          var1      var2      var3      var4      var5\n",
       "var1  1.000000  0.017258  0.010839 -0.019406 -0.010829\n",
       "var2  0.017258  1.000000  0.017182 -0.013300 -0.001718\n",
       "var3  0.010839  0.017182  1.000000  0.000125  0.002137\n",
       "var4 -0.019406 -0.013300  0.000125  1.000000  0.003279\n",
       "var5 -0.010829 -0.001718  0.002137  0.003279  1.000000"
      ]
     },
     "execution_count": 36,
     "metadata": {},
     "output_type": "execute_result"
    }
   ],
   "source": [
    "df_final[['var1','var2','var3','var4','var5']].corr()"
   ]
  },
  {
   "cell_type": "markdown",
   "id": "f570a7d7-18db-4112-8011-b72bf542e1eb",
   "metadata": {},
   "source": [
    "We can see that the variables behave as expected. Variable 1 is predictive:"
   ]
  },
  {
   "cell_type": "code",
   "execution_count": 26,
   "id": "9e9f970e-1410-4a6a-8a6a-9fb2d514c415",
   "metadata": {},
   "outputs": [
    {
     "data": {
      "image/png": "[encoded data removed]",
      "text/plain": [
       "<Figure size 1000x700 with 1 Axes>"
      ]
     },
     "metadata": {},
     "output_type": "display_data"
    }
   ],
   "source": [
    "# plot\n",
    "fig, ax = plt.subplots(1, figsize = (10, 7))\n",
    "\n",
    "kmf = KaplanMeierFitter()\n",
    "\n",
    "tmp = df_final.query('trt == 0').query('var1 < 0')\n",
    "kmf.fit(tmp['observed_t'], tmp['event'])\n",
    "kmf.plot(show_censors=False, ci_show = False, ax = ax, color = 'blue', alpha = 1, label = 'trt = 0, var1 < 0', ls = '--')\n",
    "\n",
    "tmp = df_final.query('trt == 0').query('var1 >= 0')\n",
    "kmf.fit(tmp['observed_t'], tmp['event'])\n",
    "kmf.plot(show_censors=False, ci_show = False, ax = ax, color = 'blue', alpha = 1, label = 'trt = 0, var1 >= 0')\n",
    "\n",
    "tmp = df_final.query('trt == 1').query('var1 < 0')\n",
    "kmf.fit(tmp['observed_t'], tmp['event'])\n",
    "kmf.plot(show_censors=False, ci_show = False, ax = ax, color = 'black', alpha = 1, label = 'trt = 1, var1 < 0', ls = '--')\n",
    "\n",
    "tmp = df_final.query('trt == 1').query('var1 >= 0')\n",
    "kmf.fit(tmp['observed_t'], tmp['event'])\n",
    "kmf.plot(show_censors=False, ci_show = False, ax = ax, color = 'black', alpha = 1, label = 'trt = 1, var1 >= 0')\n",
    "\n",
    "plt.axhline(0, color = 'k', ls ='--', alpha = 0.3)\n",
    "#fig.savefig('10K predictive biomarker slighlty prognostic - var1.png')"
   ]
  },
  {
   "cell_type": "markdown",
   "id": "c04221bf-a039-4dd0-af25-c2f328fe0cdf",
   "metadata": {},
   "source": [
    "Variable 2 is not:"
   ]
  },
  {
   "cell_type": "code",
   "execution_count": 37,
   "id": "dda6b06a-e68b-4748-9307-0546ba3043a3",
   "metadata": {},
   "outputs": [
    {
     "data": {
      "text/plain": [
       "<matplotlib.lines.Line2D at 0x13f330510>"
      ]
     },
     "execution_count": 37,
     "metadata": {},
     "output_type": "execute_result"
    },
    {
     "data": {
      "image/png": "[encoded data removed]",
      "text/plain": [
       "<Figure size 1000x700 with 1 Axes>"
      ]
     },
     "metadata": {},
     "output_type": "display_data"
    }
   ],
   "source": [
    "# plot\n",
    "fig, ax = plt.subplots(1, figsize = (10, 7))\n",
    "\n",
    "kmf = KaplanMeierFitter()\n",
    "\n",
    "tmp = df_final.query('trt == 0').query('var2 < 0')\n",
    "kmf.fit(tmp['observed_t'], tmp['event'])\n",
    "kmf.plot(show_censors=False, ci_show = False, ax = ax, color = 'blue', alpha = 1, label = 'trt = 0, var2 < 0', ls = '--')\n",
    "\n",
    "tmp = df_final.query('trt == 0').query('var2 >= 0')\n",
    "kmf.fit(tmp['observed_t'], tmp['event'])\n",
    "kmf.plot(show_censors=False, ci_show = False, ax = ax, color = 'blue', alpha = 1, label = 'trt = 0, var2 >= 0')\n",
    "\n",
    "tmp = df_final.query('trt == 1').query('var2 < 0')\n",
    "kmf.fit(tmp['observed_t'], tmp['event'])\n",
    "kmf.plot(show_censors=False, ci_show = False, ax = ax, color = 'black', alpha = 1, label = 'trt = 1, var2 < 0', ls = '--')\n",
    "\n",
    "tmp = df_final.query('trt == 1').query('var2 >= 0')\n",
    "kmf.fit(tmp['observed_t'], tmp['event'])\n",
    "kmf.plot(show_censors=False, ci_show = False, ax = ax, color = 'black', alpha = 1, label = 'trt = 1, var2 >= 0')\n",
    "\n",
    "plt.axhline(0, color = 'k', ls ='--', alpha = 0.3)\n",
    "#fig.savefig('10K predictive biomarker slighlty prognostic - var1.png')"
   ]
  }
 ],
 "metadata": {
  "kernelspec": {
   "display_name": "Python 3 (ipykernel)",
   "language": "python",
   "name": "python3"
  },
  "language_info": {
   "codemirror_mode": {
    "name": "ipython",
    "version": 3
   },
   "file_extension": ".py",
   "mimetype": "text/x-python",
   "name": "python",
   "nbconvert_exporter": "python",
   "pygments_lexer": "ipython3",
   "version": "3.11.5"
  },
  "varInspector": {
   "cols": {
    "lenName": 16,
    "lenType": 16,
    "lenVar": 40
   },
   "kernels_config": {
    "python": {
     "delete_cmd_postfix": "",
     "delete_cmd_prefix": "del ",
     "library": "var_list.py",
     "varRefreshCmd": "print(var_dic_list())"
    },
    "r": {
     "delete_cmd_postfix": ") ",
     "delete_cmd_prefix": "rm(",
     "library": "var_list.r",
     "varRefreshCmd": "cat(var_dic_list()) "
    }
   },
   "types_to_exclude": [
    "module",
    "function",
    "builtin_function_or_method",
    "instance",
    "_Feature"
   ],
   "window_display": false
  }
 },
 "nbformat": 4,
 "nbformat_minor": 5
}
